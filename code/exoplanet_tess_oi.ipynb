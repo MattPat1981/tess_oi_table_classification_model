{
 "cells": [
  {
   "cell_type": "markdown",
   "metadata": {},
   "source": [
    "# This notebook is in progress and not meant to be a showpiece\n",
    "I will update this notebook as I go, and will remove this notice from the top when it is complete"
   ]
  },
  {
   "cell_type": "markdown",
   "metadata": {},
   "source": [
    "# Identifying Exoplanets using the TESS Objects of Interest Data Set\n",
    "***Matt Paterson***<br>\n",
    "***Machine Learning Engineer***<br>\n",
    "***Santa Cruz, California***<br>"
   ]
  },
  {
   "cell_type": "markdown",
   "metadata": {},
   "source": [
    "**Note about the Data**<br>\n",
    "This data set is downloaded from the Cal Tech NASA Exoplanet Archive found <a href='https://exoplanetarchive.ipac.caltech.edu/cgi-bin/TblView/nph-tblView?app=ExoTbls&config=TOI'>here</a> and was downloaded on 2021-03-06 for the purpose of creating this instructional notebook.\n",
    "\n",
    "**Note about the Spacecraft**<br>\n",
    "TESS was launched by NASA in 2018 aboard a SpaceX rocket and completed its initial mission in July of 2020, poitively identifying 66 planets and recording over 2100 objects of interest. You can learn more about TESS <a href='https://exoplanets.nasa.gov/tess/'>here</a>"
   ]
  },
  {
   "cell_type": "markdown",
   "metadata": {},
   "source": [
    "## The Data Science Problem\n",
    "Can we use data from over 2000 observations made by the Transiting Exoplanet Survey Satellite (TESS) to positively identify more exoplanets in the sky using Machine Learning models?"
   ]
  },
  {
   "cell_type": "markdown",
   "metadata": {},
   "source": [
    "## Import the necessary python libraries\n",
    "In this notebook we will use python exclusively and in order to build our models, we'll utilize scikit-learn's libraries. This particular notebook will focus on the Logistic Regression model only."
   ]
  },
  {
   "cell_type": "code",
   "execution_count": 6,
   "metadata": {},
   "outputs": [],
   "source": [
    "import pandas as pd\n",
    "import numpy as np\n",
    "import matplotlib.pyplot as plt\n",
    "import seaborn as sns\n",
    "\n",
    "from sklearn.linear_model    import LogisticRegression\n",
    "from sklearn.metrics         import confusion_matrix\n",
    "from sklearn.model_selection import train_test_split"
   ]
  },
  {
   "cell_type": "markdown",
   "metadata": {},
   "source": [
    "## Import your data\n",
    "The data that we'll be using is already downloaded from CalTech/NASA, cleaned up a little for use here, and saved in a folder called 'data'. That 'data' folder lives in the same directory as a folder called 'code' where this notebook lives.\n",
    "\n",
    "In order to import the data set, you'll have to provide the pandas function with a full datapath to find your csv file. You can choose to do this using the absolute path, which is recommended for production code, but for ease in this situation, you can go ahead and use the relative path."
   ]
  },
  {
   "cell_type": "code",
   "execution_count": 7,
   "metadata": {},
   "outputs": [],
   "source": [
    "datapath = '../data/'\n",
    "filename = 'tess_oi.csv'"
   ]
  },
  {
   "cell_type": "markdown",
   "metadata": {},
   "source": [
    "When you import the data set into a pandas DataFrame, go ahead and set the index column to 'rowid' using an argument in the pandas function. Then display 5 rows of data in your DataFrame."
   ]
  },
  {
   "cell_type": "code",
   "execution_count": 9,
   "metadata": {},
   "outputs": [
    {
     "data": {
      "text/html": [
       "<div>\n",
       "<style scoped>\n",
       "    .dataframe tbody tr th:only-of-type {\n",
       "        vertical-align: middle;\n",
       "    }\n",
       "\n",
       "    .dataframe tbody tr th {\n",
       "        vertical-align: top;\n",
       "    }\n",
       "\n",
       "    .dataframe thead th {\n",
       "        text-align: right;\n",
       "    }\n",
       "</style>\n",
       "<table border=\"1\" class=\"dataframe\">\n",
       "  <thead>\n",
       "    <tr style=\"text-align: right;\">\n",
       "      <th></th>\n",
       "      <th>toi</th>\n",
       "      <th>toipfx</th>\n",
       "      <th>tid</th>\n",
       "      <th>ctoi_alias</th>\n",
       "      <th>pl_pnum</th>\n",
       "      <th>tfopwg_disp</th>\n",
       "      <th>rastr</th>\n",
       "      <th>ra</th>\n",
       "      <th>raerr1</th>\n",
       "      <th>raerr2</th>\n",
       "      <th>...</th>\n",
       "      <th>st_loggerr2</th>\n",
       "      <th>st_logglim</th>\n",
       "      <th>st_loggsymerr</th>\n",
       "      <th>st_rad</th>\n",
       "      <th>st_raderr1</th>\n",
       "      <th>st_raderr2</th>\n",
       "      <th>st_radlim</th>\n",
       "      <th>st_radsymerr</th>\n",
       "      <th>toi_created</th>\n",
       "      <th>rowupdate</th>\n",
       "    </tr>\n",
       "    <tr>\n",
       "      <th>rowid</th>\n",
       "      <th></th>\n",
       "      <th></th>\n",
       "      <th></th>\n",
       "      <th></th>\n",
       "      <th></th>\n",
       "      <th></th>\n",
       "      <th></th>\n",
       "      <th></th>\n",
       "      <th></th>\n",
       "      <th></th>\n",
       "      <th></th>\n",
       "      <th></th>\n",
       "      <th></th>\n",
       "      <th></th>\n",
       "      <th></th>\n",
       "      <th></th>\n",
       "      <th></th>\n",
       "      <th></th>\n",
       "      <th></th>\n",
       "      <th></th>\n",
       "      <th></th>\n",
       "    </tr>\n",
       "  </thead>\n",
       "  <tbody>\n",
       "    <tr>\n",
       "      <th>1519</th>\n",
       "      <td>2319.01</td>\n",
       "      <td>2319</td>\n",
       "      <td>349488688</td>\n",
       "      <td>349488688.0</td>\n",
       "      <td>1</td>\n",
       "      <td>PC</td>\n",
       "      <td>16h55m08.37s</td>\n",
       "      <td>253.784885</td>\n",
       "      <td>NaN</td>\n",
       "      <td>NaN</td>\n",
       "      <td>...</td>\n",
       "      <td>-0.092576</td>\n",
       "      <td>0</td>\n",
       "      <td>1</td>\n",
       "      <td>1.396190</td>\n",
       "      <td>0.064070</td>\n",
       "      <td>-0.064070</td>\n",
       "      <td>0</td>\n",
       "      <td>1</td>\n",
       "      <td>10/5/2020 21:01</td>\n",
       "      <td>11/3/2020 12:00</td>\n",
       "    </tr>\n",
       "    <tr>\n",
       "      <th>1536</th>\n",
       "      <td>2334.01</td>\n",
       "      <td>2334</td>\n",
       "      <td>200743403</td>\n",
       "      <td>200743403.0</td>\n",
       "      <td>1</td>\n",
       "      <td>PC</td>\n",
       "      <td>03h16m37.01s</td>\n",
       "      <td>49.154193</td>\n",
       "      <td>NaN</td>\n",
       "      <td>NaN</td>\n",
       "      <td>...</td>\n",
       "      <td>-0.080000</td>\n",
       "      <td>0</td>\n",
       "      <td>1</td>\n",
       "      <td>1.700000</td>\n",
       "      <td>0.100000</td>\n",
       "      <td>-0.100000</td>\n",
       "      <td>0</td>\n",
       "      <td>1</td>\n",
       "      <td>10/23/2020 19:58</td>\n",
       "      <td>2/1/2021 10:00</td>\n",
       "    </tr>\n",
       "    <tr>\n",
       "      <th>1520</th>\n",
       "      <td>232.01</td>\n",
       "      <td>232</td>\n",
       "      <td>402026209</td>\n",
       "      <td>402026209.0</td>\n",
       "      <td>1</td>\n",
       "      <td>KP</td>\n",
       "      <td>23h34m15.1s</td>\n",
       "      <td>353.562915</td>\n",
       "      <td>NaN</td>\n",
       "      <td>NaN</td>\n",
       "      <td>...</td>\n",
       "      <td>NaN</td>\n",
       "      <td>0</td>\n",
       "      <td>1</td>\n",
       "      <td>0.894974</td>\n",
       "      <td>0.055553</td>\n",
       "      <td>-0.055553</td>\n",
       "      <td>0</td>\n",
       "      <td>1</td>\n",
       "      <td>11/16/2018 21:15</td>\n",
       "      <td>11/6/2020 16:00</td>\n",
       "    </tr>\n",
       "    <tr>\n",
       "      <th>1000</th>\n",
       "      <td>1861.01</td>\n",
       "      <td>1861</td>\n",
       "      <td>323295479</td>\n",
       "      <td>323295479.0</td>\n",
       "      <td>1</td>\n",
       "      <td>PC</td>\n",
       "      <td>08h43m12.03s</td>\n",
       "      <td>130.800130</td>\n",
       "      <td>NaN</td>\n",
       "      <td>NaN</td>\n",
       "      <td>...</td>\n",
       "      <td>-0.330000</td>\n",
       "      <td>0</td>\n",
       "      <td>1</td>\n",
       "      <td>1.060000</td>\n",
       "      <td>0.060000</td>\n",
       "      <td>-0.060000</td>\n",
       "      <td>0</td>\n",
       "      <td>1</td>\n",
       "      <td>5/18/2020 20:24</td>\n",
       "      <td>6/17/2020 10:00</td>\n",
       "    </tr>\n",
       "    <tr>\n",
       "      <th>1629</th>\n",
       "      <td>2419.01</td>\n",
       "      <td>2419</td>\n",
       "      <td>358248442</td>\n",
       "      <td>358248442.0</td>\n",
       "      <td>1</td>\n",
       "      <td>PC</td>\n",
       "      <td>03h33m04.89s</td>\n",
       "      <td>53.270375</td>\n",
       "      <td>NaN</td>\n",
       "      <td>NaN</td>\n",
       "      <td>...</td>\n",
       "      <td>-0.330000</td>\n",
       "      <td>0</td>\n",
       "      <td>1</td>\n",
       "      <td>1.354200</td>\n",
       "      <td>0.062663</td>\n",
       "      <td>-0.062663</td>\n",
       "      <td>0</td>\n",
       "      <td>1</td>\n",
       "      <td>11/25/2020 22:47</td>\n",
       "      <td>1/5/2021 16:00</td>\n",
       "    </tr>\n",
       "  </tbody>\n",
       "</table>\n",
       "<p>5 rows × 86 columns</p>\n",
       "</div>"
      ],
      "text/plain": [
       "           toi  toipfx        tid   ctoi_alias  pl_pnum tfopwg_disp  \\\n",
       "rowid                                                                 \n",
       "1519   2319.01    2319  349488688  349488688.0        1          PC   \n",
       "1536   2334.01    2334  200743403  200743403.0        1          PC   \n",
       "1520    232.01     232  402026209  402026209.0        1          KP   \n",
       "1000   1861.01    1861  323295479  323295479.0        1          PC   \n",
       "1629   2419.01    2419  358248442  358248442.0        1          PC   \n",
       "\n",
       "              rastr          ra  raerr1  raerr2  ... st_loggerr2  st_logglim  \\\n",
       "rowid                                            ...                           \n",
       "1519   16h55m08.37s  253.784885     NaN     NaN  ...   -0.092576           0   \n",
       "1536   03h16m37.01s   49.154193     NaN     NaN  ...   -0.080000           0   \n",
       "1520    23h34m15.1s  353.562915     NaN     NaN  ...         NaN           0   \n",
       "1000   08h43m12.03s  130.800130     NaN     NaN  ...   -0.330000           0   \n",
       "1629   03h33m04.89s   53.270375     NaN     NaN  ...   -0.330000           0   \n",
       "\n",
       "       st_loggsymerr    st_rad  st_raderr1  st_raderr2  st_radlim  \\\n",
       "rowid                                                               \n",
       "1519               1  1.396190    0.064070   -0.064070          0   \n",
       "1536               1  1.700000    0.100000   -0.100000          0   \n",
       "1520               1  0.894974    0.055553   -0.055553          0   \n",
       "1000               1  1.060000    0.060000   -0.060000          0   \n",
       "1629               1  1.354200    0.062663   -0.062663          0   \n",
       "\n",
       "       st_radsymerr       toi_created        rowupdate  \n",
       "rowid                                                   \n",
       "1519              1   10/5/2020 21:01  11/3/2020 12:00  \n",
       "1536              1  10/23/2020 19:58   2/1/2021 10:00  \n",
       "1520              1  11/16/2018 21:15  11/6/2020 16:00  \n",
       "1000              1   5/18/2020 20:24  6/17/2020 10:00  \n",
       "1629              1  11/25/2020 22:47   1/5/2021 16:00  \n",
       "\n",
       "[5 rows x 86 columns]"
      ]
     },
     "execution_count": 9,
     "metadata": {},
     "output_type": "execute_result"
    }
   ],
   "source": [
    "df = pd.read_csv(datapath + filename, index_col='rowid')\n",
    "df.sample(5)"
   ]
  },
  {
   "cell_type": "markdown",
   "metadata": {},
   "source": [
    "How many rows and columns of data do you have in this data set? How many null values do you have in each column? Are the data types in the table logical and ready for modeling? Why or why not? What are some different python or pandas or matplotlib functions that you can use to inspect this data?"
   ]
  },
  {
   "cell_type": "code",
   "execution_count": 4,
   "metadata": {},
   "outputs": [
    {
     "data": {
      "text/plain": [
       "(2542, 86)"
      ]
     },
     "execution_count": 4,
     "metadata": {},
     "output_type": "execute_result"
    }
   ],
   "source": [
    "df.shape"
   ]
  },
  {
   "cell_type": "code",
   "execution_count": 5,
   "metadata": {},
   "outputs": [
    {
     "name": "stdout",
     "output_type": "stream",
     "text": [
      "<class 'pandas.core.frame.DataFrame'>\n",
      "Int64Index: 2542 entries, 1 to 2542\n",
      "Data columns (total 86 columns):\n",
      " #   Column             Non-Null Count  Dtype  \n",
      "---  ------             --------------  -----  \n",
      " 0   toi                2542 non-null   float64\n",
      " 1   toipfx             2542 non-null   int64  \n",
      " 2   tid                2542 non-null   int64  \n",
      " 3   ctoi_alias         2542 non-null   float64\n",
      " 4   pl_pnum            2542 non-null   int64  \n",
      " 5   tfopwg_disp        2535 non-null   object \n",
      " 6   rastr              2542 non-null   object \n",
      " 7   ra                 2542 non-null   float64\n",
      " 8   raerr1             0 non-null      float64\n",
      " 9   raerr2             0 non-null      float64\n",
      " 10  decstr             2542 non-null   object \n",
      " 11  dec                2542 non-null   float64\n",
      " 12  decerr1            0 non-null      float64\n",
      " 13  decerr2            0 non-null      float64\n",
      " 14  st_pmra            2526 non-null   float64\n",
      " 15  st_pmraerr1        2526 non-null   float64\n",
      " 16  st_pmraerr2        2526 non-null   float64\n",
      " 17  st_pmralim         2526 non-null   float64\n",
      " 18  st_pmrasymerr      2526 non-null   float64\n",
      " 19  st_pmdec           2526 non-null   float64\n",
      " 20  st_pmdecerr1       2526 non-null   float64\n",
      " 21  st_pmdecerr2       2526 non-null   float64\n",
      " 22  st_pmdeclim        2526 non-null   float64\n",
      " 23  st_pmdecsymerr     2526 non-null   float64\n",
      " 24  pl_tranmid         2542 non-null   float64\n",
      " 25  pl_tranmiderr1     2521 non-null   float64\n",
      " 26  pl_tranmiderr2     2521 non-null   float64\n",
      " 27  pl_tranmidlim      2542 non-null   int64  \n",
      " 28  pl_tranmidsymerr   2542 non-null   int64  \n",
      " 29  pl_orbper          2463 non-null   float64\n",
      " 30  pl_orbpererr1      2426 non-null   float64\n",
      " 31  pl_orbpererr2      2426 non-null   float64\n",
      " 32  pl_orbperlim       2542 non-null   int64  \n",
      " 33  pl_orbpersymerr    2542 non-null   int64  \n",
      " 34  pl_trandurh        2542 non-null   float64\n",
      " 35  pl_trandurherr1    2535 non-null   float64\n",
      " 36  pl_trandurherr2    2535 non-null   float64\n",
      " 37  pl_trandurhlim     2542 non-null   int64  \n",
      " 38  pl_trandurhsymerr  2542 non-null   int64  \n",
      " 39  pl_trandep         2542 non-null   float64\n",
      " 40  pl_trandeperr1     2528 non-null   float64\n",
      " 41  pl_trandeperr2     2528 non-null   float64\n",
      " 42  pl_trandeplim      2542 non-null   int64  \n",
      " 43  pl_trandepsymerr   2542 non-null   int64  \n",
      " 44  pl_rade            2410 non-null   float64\n",
      " 45  pl_radeerr1        2280 non-null   float64\n",
      " 46  pl_radeerr2        2280 non-null   float64\n",
      " 47  pl_radelim         2542 non-null   int64  \n",
      " 48  pl_radesymerr      2542 non-null   int64  \n",
      " 49  pl_insol           2411 non-null   float64\n",
      " 50  pl_insolerr1       0 non-null      float64\n",
      " 51  pl_insolerr2       0 non-null      float64\n",
      " 52  pl_insollim        0 non-null      float64\n",
      " 53  pl_insolsymerr     0 non-null      float64\n",
      " 54  pl_eqt             2378 non-null   float64\n",
      " 55  pl_eqterr1         0 non-null      float64\n",
      " 56  pl_eqterr2         0 non-null      float64\n",
      " 57  pl_eqtlim          0 non-null      float64\n",
      " 58  pl_eqtsymerr       0 non-null      float64\n",
      " 59  st_tmag            2542 non-null   float64\n",
      " 60  st_tmagerr1        2542 non-null   float64\n",
      " 61  st_tmagerr2        2542 non-null   float64\n",
      " 62  st_tmaglim         2542 non-null   int64  \n",
      " 63  st_tmagsymerr      2542 non-null   int64  \n",
      " 64  st_dist            2492 non-null   float64\n",
      " 65  st_disterr1        2373 non-null   float64\n",
      " 66  st_disterr2        2373 non-null   float64\n",
      " 67  st_distlim         2542 non-null   int64  \n",
      " 68  st_distsymerr      2542 non-null   int64  \n",
      " 69  st_teff            2506 non-null   float64\n",
      " 70  st_tefferr1        2315 non-null   float64\n",
      " 71  st_tefferr2        2315 non-null   float64\n",
      " 72  st_tefflim         2542 non-null   int64  \n",
      " 73  st_teffsymerr      2542 non-null   int64  \n",
      " 74  st_logg            2297 non-null   float64\n",
      " 75  st_loggerr1        2009 non-null   float64\n",
      " 76  st_loggerr2        2009 non-null   float64\n",
      " 77  st_logglim         2542 non-null   int64  \n",
      " 78  st_loggsymerr      2542 non-null   int64  \n",
      " 79  st_rad             2409 non-null   float64\n",
      " 80  st_raderr1         2139 non-null   float64\n",
      " 81  st_raderr2         2139 non-null   float64\n",
      " 82  st_radlim          2542 non-null   int64  \n",
      " 83  st_radsymerr       2542 non-null   int64  \n",
      " 84  toi_created        2542 non-null   object \n",
      " 85  rowupdate          2542 non-null   object \n",
      "dtypes: float64(58), int64(23), object(5)\n",
      "memory usage: 1.7+ MB\n"
     ]
    }
   ],
   "source": [
    "df.info()"
   ]
  },
  {
   "cell_type": "code",
   "execution_count": 17,
   "metadata": {},
   "outputs": [
    {
     "data": {
      "text/plain": [
       "toi               0\n",
       "toipfx            0\n",
       "tid               0\n",
       "ctoi_alias        0\n",
       "pl_pnum           0\n",
       "               ... \n",
       "st_raderr2      403\n",
       "st_radlim         0\n",
       "st_radsymerr      0\n",
       "toi_created       0\n",
       "rowupdate         0\n",
       "Length: 86, dtype: int64"
      ]
     },
     "execution_count": 17,
     "metadata": {},
     "output_type": "execute_result"
    }
   ],
   "source": [
    "df.isna().sum()"
   ]
  },
  {
   "cell_type": "markdown",
   "metadata": {},
   "source": [
    "## Quick and dirty data cleaning\n",
    "With any dataset, you'll want to spend lots of time looking at each and every column of data and learning what each is and how it relates to the other columns. You'll employ correlation matrices, scatterplots, and bar charts to see patterns. You'll have to impute missing data and decide if some data can be imputed at all. You'll have to engineer data columns and aggregate data columns and convert columns to different units of measurement. \n",
    "\n",
    "This particular notebook is intended to help you learn how to use the Logistic Regression Classification Model, so rather than spend all of our time on the data (a typical Data Scientist spends most of their time acquiring, cleaning, and maintaining their data), we're going to make what I like to call the 'Quick and Dirty Model' by dropping all columns with null values."
   ]
  },
  {
   "cell_type": "markdown",
   "metadata": {},
   "source": [
    "## Drop all null values\n",
    "Use a pandas method to drop all of the columns in your table that contain null values, and save this new dataframe to a variable called 'tess', and then print the number of rows and columns that the new 'tess' DataFrame contains."
   ]
  },
  {
   "cell_type": "code",
   "execution_count": 18,
   "metadata": {},
   "outputs": [
    {
     "data": {
      "text/plain": [
       "(2542, 37)"
      ]
     },
     "execution_count": 18,
     "metadata": {},
     "output_type": "execute_result"
    }
   ],
   "source": [
    "tess = df.dropna(axis=1)\n",
    "tess.shape"
   ]
  },
  {
   "cell_type": "markdown",
   "metadata": {},
   "source": [
    "How many of your new columns are non-numeric?"
   ]
  },
  {
   "cell_type": "code",
   "execution_count": 19,
   "metadata": {},
   "outputs": [
    {
     "data": {
      "text/plain": [
       "toi                  float64\n",
       "toipfx                 int64\n",
       "tid                    int64\n",
       "ctoi_alias           float64\n",
       "pl_pnum                int64\n",
       "rastr                 object\n",
       "ra                   float64\n",
       "decstr                object\n",
       "dec                  float64\n",
       "pl_tranmid           float64\n",
       "pl_tranmidlim          int64\n",
       "pl_tranmidsymerr       int64\n",
       "pl_orbperlim           int64\n",
       "pl_orbpersymerr        int64\n",
       "pl_trandurh          float64\n",
       "pl_trandurhlim         int64\n",
       "pl_trandurhsymerr      int64\n",
       "pl_trandep           float64\n",
       "pl_trandeplim          int64\n",
       "pl_trandepsymerr       int64\n",
       "pl_radelim             int64\n",
       "pl_radesymerr          int64\n",
       "st_tmag              float64\n",
       "st_tmagerr1          float64\n",
       "st_tmagerr2          float64\n",
       "st_tmaglim             int64\n",
       "st_tmagsymerr          int64\n",
       "st_distlim             int64\n",
       "st_distsymerr          int64\n",
       "st_tefflim             int64\n",
       "st_teffsymerr          int64\n",
       "st_logglim             int64\n",
       "st_loggsymerr          int64\n",
       "st_radlim              int64\n",
       "st_radsymerr           int64\n",
       "toi_created           object\n",
       "rowupdate             object\n",
       "dtype: object"
      ]
     },
     "execution_count": 19,
     "metadata": {},
     "output_type": "execute_result"
    }
   ],
   "source": [
    "tess.dtypes"
   ]
  },
  {
   "cell_type": "code",
   "execution_count": null,
   "metadata": {},
   "outputs": [],
   "source": []
  }
 ],
 "metadata": {
  "kernelspec": {
   "display_name": "Python 3",
   "language": "python",
   "name": "python3"
  },
  "language_info": {
   "codemirror_mode": {
    "name": "ipython",
    "version": 3
   },
   "file_extension": ".py",
   "mimetype": "text/x-python",
   "name": "python",
   "nbconvert_exporter": "python",
   "pygments_lexer": "ipython3",
   "version": "3.7.9"
  }
 },
 "nbformat": 4,
 "nbformat_minor": 4
}
